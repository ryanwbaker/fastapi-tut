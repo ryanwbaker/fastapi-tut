{
 "cells": [
  {
   "cell_type": "code",
   "execution_count": 8,
   "metadata": {},
   "outputs": [],
   "source": [
    "from weather_app.openweathermap import get_weather_by_name, get_weather_by_id\n",
    "from weather_app.alberta_cities import alberta_cities\n",
    "import os\n",
    "from dotenv import load_dotenv\n",
    "import requests\n",
    "load_dotenv()\n",
    "WEATHER_API_KEY = os.getenv('WEATHER_API_KEY')\n"
   ]
  },
  {
   "cell_type": "code",
   "execution_count": 9,
   "metadata": {},
   "outputs": [],
   "source": [
    "mh_id = get_weather_by_name(\"Medicine Hat\")['id']"
   ]
  },
  {
   "cell_type": "code",
   "execution_count": 10,
   "metadata": {},
   "outputs": [
    {
     "data": {
      "text/plain": [
       "[{'city': 'Calgary',\n",
       "  'response': {'coord': {'lon': -114.0853, 'lat': 51.0501},\n",
       "   'weather': [{'id': 803,\n",
       "     'main': 'Clouds',\n",
       "     'description': 'broken clouds',\n",
       "     'icon': '04n'}],\n",
       "   'base': 'stations',\n",
       "   'main': {'temp': 14.85,\n",
       "    'feels_like': 14.22,\n",
       "    'temp_min': 13.2,\n",
       "    'temp_max': 15.57,\n",
       "    'pressure': 1007,\n",
       "    'humidity': 70,\n",
       "    'sea_level': 1007,\n",
       "    'grnd_level': 884},\n",
       "   'visibility': 10000,\n",
       "   'wind': {'speed': 2.06, 'deg': 300},\n",
       "   'clouds': {'all': 75},\n",
       "   'dt': 1726719753,\n",
       "   'sys': {'type': 2,\n",
       "    'id': 2094668,\n",
       "    'country': 'CA',\n",
       "    'sunrise': 1726665434,\n",
       "    'sunset': 1726710207},\n",
       "   'timezone': -21600,\n",
       "   'id': 5913490,\n",
       "   'name': 'Calgary',\n",
       "   'cod': 200}},\n",
       " {'city': 'Edmonton',\n",
       "  'response': {'coord': {'lon': -113.4687, 'lat': 53.5501},\n",
       "   'weather': [{'id': 801,\n",
       "     'main': 'Clouds',\n",
       "     'description': 'few clouds',\n",
       "     'icon': '02n'}],\n",
       "   'base': 'stations',\n",
       "   'main': {'temp': 12.98,\n",
       "    'feels_like': 12.11,\n",
       "    'temp_min': 10.44,\n",
       "    'temp_max': 14.16,\n",
       "    'pressure': 1007,\n",
       "    'humidity': 68,\n",
       "    'sea_level': 1007,\n",
       "    'grnd_level': 929},\n",
       "   'visibility': 10000,\n",
       "   'wind': {'speed': 1.34, 'deg': 326, 'gust': 2.68},\n",
       "   'clouds': {'all': 19},\n",
       "   'dt': 1726719840,\n",
       "   'sys': {'type': 2,\n",
       "    'id': 2074442,\n",
       "    'country': 'CA',\n",
       "    'sunrise': 1726665223,\n",
       "    'sunset': 1726710122},\n",
       "   'timezone': -21600,\n",
       "   'id': 5946768,\n",
       "   'name': 'Edmonton',\n",
       "   'cod': 200}},\n",
       " {'city': 'Red Deer',\n",
       "  'response': {'coord': {'lon': -113.802, 'lat': 52.2668},\n",
       "   'weather': [{'id': 800,\n",
       "     'main': 'Clear',\n",
       "     'description': 'clear sky',\n",
       "     'icon': '01n'}],\n",
       "   'base': 'stations',\n",
       "   'main': {'temp': 13.27,\n",
       "    'feels_like': 12.51,\n",
       "    'temp_min': 8.49,\n",
       "    'temp_max': 13.27,\n",
       "    'pressure': 1007,\n",
       "    'humidity': 71,\n",
       "    'sea_level': 1007,\n",
       "    'grnd_level': 904},\n",
       "   'visibility': 10000,\n",
       "   'wind': {'speed': 2.06, 'deg': 340},\n",
       "   'clouds': {'all': 0},\n",
       "   'dt': 1726720080,\n",
       "   'sys': {'type': 1,\n",
       "    'id': 887,\n",
       "    'country': 'CA',\n",
       "    'sunrise': 1726665336,\n",
       "    'sunset': 1726710169},\n",
       "   'timezone': -21600,\n",
       "   'id': 6118158,\n",
       "   'name': 'Red Deer',\n",
       "   'cod': 200}},\n",
       " {'city': 'Lethbridge',\n",
       "  'response': {'coord': {'lon': -112.8186, 'lat': 49.7},\n",
       "   'weather': [{'id': 803,\n",
       "     'main': 'Clouds',\n",
       "     'description': 'broken clouds',\n",
       "     'icon': '04n'}],\n",
       "   'base': 'stations',\n",
       "   'main': {'temp': 16.06,\n",
       "    'feels_like': 15.37,\n",
       "    'temp_min': 14.27,\n",
       "    'temp_max': 16.06,\n",
       "    'pressure': 1006,\n",
       "    'humidity': 63,\n",
       "    'sea_level': 1006,\n",
       "    'grnd_level': 905},\n",
       "   'visibility': 10000,\n",
       "   'wind': {'speed': 3.09, 'deg': 280},\n",
       "   'clouds': {'all': 75},\n",
       "   'dt': 1726719927,\n",
       "   'sys': {'type': 1,\n",
       "    'id': 897,\n",
       "    'country': 'CA',\n",
       "    'sunrise': 1726665160,\n",
       "    'sunset': 1726709873},\n",
       "   'timezone': -21600,\n",
       "   'id': 6053154,\n",
       "   'name': 'Lethbridge',\n",
       "   'cod': 200}},\n",
       " {'city': 'Medicine Hat',\n",
       "  'response': {'coord': {'lon': -110.6683, 'lat': 50.0501},\n",
       "   'weather': [{'id': 802,\n",
       "     'main': 'Clouds',\n",
       "     'description': 'scattered clouds',\n",
       "     'icon': '03n'}],\n",
       "   'base': 'stations',\n",
       "   'main': {'temp': 13.57,\n",
       "    'feels_like': 12.99,\n",
       "    'temp_min': 12.62,\n",
       "    'temp_max': 14.01,\n",
       "    'pressure': 1004,\n",
       "    'humidity': 77,\n",
       "    'sea_level': 1004,\n",
       "    'grnd_level': 922},\n",
       "   'visibility': 10000,\n",
       "   'wind': {'speed': 5.14, 'deg': 270},\n",
       "   'clouds': {'all': 40},\n",
       "   'dt': 1726720051,\n",
       "   'sys': {'type': 2,\n",
       "    'id': 2017455,\n",
       "    'country': 'CA',\n",
       "    'sunrise': 1726664636,\n",
       "    'sunset': 1726709365},\n",
       "   'timezone': -21600,\n",
       "   'id': 6071618,\n",
       "   'name': 'Medicine Hat',\n",
       "   'cod': 200}},\n",
       " {'city': 'Fort McMurray',\n",
       "  'response': {'coord': {'lon': -111.381, 'lat': 56.7268},\n",
       "   'weather': [{'id': 804,\n",
       "     'main': 'Clouds',\n",
       "     'description': 'overcast clouds',\n",
       "     'icon': '04n'}],\n",
       "   'base': 'stations',\n",
       "   'main': {'temp': 7.73,\n",
       "    'feels_like': 7.01,\n",
       "    'temp_min': 7.73,\n",
       "    'temp_max': 8.77,\n",
       "    'pressure': 1007,\n",
       "    'humidity': 81,\n",
       "    'sea_level': 1007,\n",
       "    'grnd_level': 977},\n",
       "   'visibility': 10000,\n",
       "   'wind': {'speed': 1.54, 'deg': 260},\n",
       "   'clouds': {'all': 100},\n",
       "   'dt': 1726720080,\n",
       "   'sys': {'type': 1,\n",
       "    'id': 856,\n",
       "    'country': 'CA',\n",
       "    'sunrise': 1726664628,\n",
       "    'sunset': 1726709715},\n",
       "   'timezone': -21600,\n",
       "   'id': 5955895,\n",
       "   'name': 'Fort McMurray',\n",
       "   'cod': 200}}]"
      ]
     },
     "execution_count": 10,
     "metadata": {},
     "output_type": "execute_result"
    }
   ],
   "source": [
    "data = []\n",
    "for city in alberta_cities:\n",
    "    response = get_weather_by_name(city['city_name'])\n",
    "    data.append({'city': city['city_name'], 'response': response})\n",
    "data"
   ]
  },
  {
   "cell_type": "code",
   "execution_count": 11,
   "metadata": {},
   "outputs": [
    {
     "data": {
      "text/plain": [
       "{'coord': {'lon': -110.6683, 'lat': 50.0501},\n",
       " 'weather': [{'id': 802,\n",
       "   'main': 'Clouds',\n",
       "   'description': 'scattered clouds',\n",
       "   'icon': '03n'}],\n",
       " 'base': 'stations',\n",
       " 'main': {'temp': 13.57,\n",
       "  'feels_like': 12.99,\n",
       "  'temp_min': 12.62,\n",
       "  'temp_max': 14.01,\n",
       "  'pressure': 1004,\n",
       "  'humidity': 77,\n",
       "  'sea_level': 1004,\n",
       "  'grnd_level': 922},\n",
       " 'visibility': 10000,\n",
       " 'wind': {'speed': 5.14, 'deg': 270},\n",
       " 'clouds': {'all': 40},\n",
       " 'dt': 1726720081,\n",
       " 'sys': {'type': 2,\n",
       "  'id': 2017455,\n",
       "  'country': 'CA',\n",
       "  'sunrise': 1726664636,\n",
       "  'sunset': 1726709365},\n",
       " 'timezone': -21600,\n",
       " 'id': 6071618,\n",
       " 'name': 'Medicine Hat',\n",
       " 'cod': 200}"
      ]
     },
     "execution_count": 11,
     "metadata": {},
     "output_type": "execute_result"
    }
   ],
   "source": [
    "url = f\"http://api.openweathermap.org/data/2.5/weather?id={mh_id}&appid={WEATHER_API_KEY}&units=metric\"\n",
    "response = requests.get(url)\n",
    "response.json()"
   ]
  },
  {
   "cell_type": "code",
   "execution_count": 12,
   "metadata": {},
   "outputs": [
    {
     "name": "stdout",
     "output_type": "stream",
     "text": [
      "5913490\n",
      "5946768\n",
      "6118158\n",
      "6053154\n",
      "6071618\n",
      "5955895\n"
     ]
    }
   ],
   "source": [
    "for datum in data:\n",
    "    print(datum['response']['id'])"
   ]
  },
  {
   "cell_type": "code",
   "execution_count": 13,
   "metadata": {},
   "outputs": [
    {
     "name": "stdout",
     "output_type": "stream",
     "text": [
      "{'coord': {'lon': -114.0853, 'lat': 51.0501}, 'weather': [{'id': 803, 'main': 'Clouds', 'description': 'broken clouds', 'icon': '04n'}], 'base': 'stations', 'main': {'temp': 14.76, 'feels_like': 14.15, 'temp_min': 13.56, 'temp_max': 15.57, 'pressure': 1007, 'humidity': 71, 'sea_level': 1007, 'grnd_level': 884}, 'visibility': 10000, 'wind': {'speed': 2.06, 'deg': 300}, 'clouds': {'all': 75}, 'dt': 1726719963, 'sys': {'type': 2, 'id': 2094668, 'country': 'CA', 'sunrise': 1726665434, 'sunset': 1726710207}, 'timezone': -21600, 'id': 5913490, 'name': 'Calgary', 'cod': 200}\n",
      "{'coord': {'lon': -113.4687, 'lat': 53.5501}, 'weather': [{'id': 801, 'main': 'Clouds', 'description': 'few clouds', 'icon': '02n'}], 'base': 'stations', 'main': {'temp': 13.85, 'feels_like': 12.99, 'temp_min': 11, 'temp_max': 14.76, 'pressure': 1007, 'humidity': 65, 'sea_level': 1007, 'grnd_level': 929}, 'visibility': 10000, 'wind': {'speed': 1.79, 'deg': 312, 'gust': 3.58}, 'clouds': {'all': 19}, 'dt': 1726719301, 'sys': {'type': 2, 'id': 2074442, 'country': 'CA', 'sunrise': 1726665223, 'sunset': 1726710122}, 'timezone': -21600, 'id': 5946768, 'name': 'Edmonton', 'cod': 200}\n",
      "{'coord': {'lon': -113.802, 'lat': 52.2668}, 'weather': [{'id': 800, 'main': 'Clear', 'description': 'clear sky', 'icon': '01n'}], 'base': 'stations', 'main': {'temp': 13.27, 'feels_like': 12.51, 'temp_min': 8.49, 'temp_max': 13.27, 'pressure': 1007, 'humidity': 71, 'sea_level': 1007, 'grnd_level': 904}, 'visibility': 10000, 'wind': {'speed': 2.06, 'deg': 340}, 'clouds': {'all': 0}, 'dt': 1726720080, 'sys': {'type': 1, 'id': 887, 'country': 'CA', 'sunrise': 1726665336, 'sunset': 1726710169}, 'timezone': -21600, 'id': 6118158, 'name': 'Red Deer', 'cod': 200}\n",
      "{'coord': {'lon': -112.8186, 'lat': 49.7}, 'weather': [{'id': 803, 'main': 'Clouds', 'description': 'broken clouds', 'icon': '04n'}], 'base': 'stations', 'main': {'temp': 16.06, 'feels_like': 15.37, 'temp_min': 14.27, 'temp_max': 16.06, 'pressure': 1006, 'humidity': 63, 'sea_level': 1006, 'grnd_level': 905}, 'visibility': 10000, 'wind': {'speed': 3.09, 'deg': 280}, 'clouds': {'all': 75}, 'dt': 1726720081, 'sys': {'type': 1, 'id': 897, 'country': 'CA', 'sunrise': 1726665160, 'sunset': 1726709873}, 'timezone': -21600, 'id': 6053154, 'name': 'Lethbridge', 'cod': 200}\n",
      "{'coord': {'lon': -110.6683, 'lat': 50.0501}, 'weather': [{'id': 802, 'main': 'Clouds', 'description': 'scattered clouds', 'icon': '03n'}], 'base': 'stations', 'main': {'temp': 13.57, 'feels_like': 12.99, 'temp_min': 12.62, 'temp_max': 14.01, 'pressure': 1004, 'humidity': 77, 'sea_level': 1004, 'grnd_level': 922}, 'visibility': 10000, 'wind': {'speed': 5.14, 'deg': 270}, 'clouds': {'all': 40}, 'dt': 1726720081, 'sys': {'type': 2, 'id': 2017455, 'country': 'CA', 'sunrise': 1726664636, 'sunset': 1726709365}, 'timezone': -21600, 'id': 6071618, 'name': 'Medicine Hat', 'cod': 200}\n",
      "{'coord': {'lon': -111.381, 'lat': 56.7268}, 'weather': [{'id': 804, 'main': 'Clouds', 'description': 'overcast clouds', 'icon': '04n'}], 'base': 'stations', 'main': {'temp': 7.73, 'feels_like': 7.01, 'temp_min': 7.73, 'temp_max': 8.77, 'pressure': 1007, 'humidity': 81, 'sea_level': 1007, 'grnd_level': 977}, 'visibility': 10000, 'wind': {'speed': 1.54, 'deg': 260}, 'clouds': {'all': 100}, 'dt': 1726720081, 'sys': {'type': 1, 'id': 856, 'country': 'CA', 'sunrise': 1726664628, 'sunset': 1726709715}, 'timezone': -21600, 'id': 5955895, 'name': 'Fort McMurray', 'cod': 200}\n"
     ]
    }
   ],
   "source": [
    "for city in alberta_cities:\n",
    "    print(get_weather_by_id(city['openweatherid']))"
   ]
  },
  {
   "cell_type": "code",
   "execution_count": 14,
   "metadata": {},
   "outputs": [
    {
     "data": {
      "text/plain": [
       "<Response [200]>"
      ]
     },
     "execution_count": 14,
     "metadata": {},
     "output_type": "execute_result"
    }
   ],
   "source": [
    "response"
   ]
  }
 ],
 "metadata": {
  "kernelspec": {
   "display_name": "venv",
   "language": "python",
   "name": "python3"
  },
  "language_info": {
   "codemirror_mode": {
    "name": "ipython",
    "version": 3
   },
   "file_extension": ".py",
   "mimetype": "text/x-python",
   "name": "python",
   "nbconvert_exporter": "python",
   "pygments_lexer": "ipython3",
   "version": "3.12.2"
  }
 },
 "nbformat": 4,
 "nbformat_minor": 2
}
