{
 "cells": [
  {
   "cell_type": "code",
   "execution_count": 1,
   "metadata": {},
   "outputs": [],
   "source": [
    "from weather_app.openweathermap import get_weather_by_name, get_weather_by_id\n",
    "from weather_app.alberta_cities import alberta_cities\n",
    "import os\n",
    "from dotenv import load_dotenv\n",
    "import requests\n",
    "load_dotenv()\n",
    "WEATHER_API_KEY = os.getenv('WEATHER_API_KEY')\n"
   ]
  },
  {
   "cell_type": "code",
   "execution_count": 2,
   "metadata": {},
   "outputs": [],
   "source": [
    "mh_id = get_weather_by_name(\"Medicine Hat\")['id']"
   ]
  },
  {
   "cell_type": "code",
   "execution_count": 3,
   "metadata": {},
   "outputs": [
    {
     "data": {
      "text/plain": [
       "[{'city': 'Calgary',\n",
       "  'response': {'coord': {'lon': -114.0853, 'lat': 51.0501},\n",
       "   'weather': [{'id': 803,\n",
       "     'main': 'Clouds',\n",
       "     'description': 'broken clouds',\n",
       "     'icon': '04n'}],\n",
       "   'base': 'stations',\n",
       "   'main': {'temp': 15.31,\n",
       "    'feels_like': 14.67,\n",
       "    'temp_min': 14.12,\n",
       "    'temp_max': 15.74,\n",
       "    'pressure': 1007,\n",
       "    'humidity': 68,\n",
       "    'sea_level': 1007,\n",
       "    'grnd_level': 884},\n",
       "   'visibility': 10000,\n",
       "   'wind': {'speed': 1.03, 'deg': 330},\n",
       "   'clouds': {'all': 75},\n",
       "   'dt': 1726718874,\n",
       "   'sys': {'type': 2,\n",
       "    'id': 2094668,\n",
       "    'country': 'CA',\n",
       "    'sunrise': 1726665434,\n",
       "    'sunset': 1726710207},\n",
       "   'timezone': -21600,\n",
       "   'id': 5913490,\n",
       "   'name': 'Calgary',\n",
       "   'cod': 200}},\n",
       " {'city': 'Edmonton',\n",
       "  'response': {'coord': {'lon': -113.4687, 'lat': 53.5501},\n",
       "   'weather': [{'id': 801,\n",
       "     'main': 'Clouds',\n",
       "     'description': 'few clouds',\n",
       "     'icon': '02n'}],\n",
       "   'base': 'stations',\n",
       "   'main': {'temp': 14.06,\n",
       "    'feels_like': 13.14,\n",
       "    'temp_min': 11.38,\n",
       "    'temp_max': 15.01,\n",
       "    'pressure': 1007,\n",
       "    'humidity': 62,\n",
       "    'sea_level': 1007,\n",
       "    'grnd_level': 929},\n",
       "   'visibility': 10000,\n",
       "   'wind': {'speed': 2.24, 'deg': 306, 'gust': 5.81},\n",
       "   'clouds': {'all': 19},\n",
       "   'dt': 1726718416,\n",
       "   'sys': {'type': 2,\n",
       "    'id': 2074442,\n",
       "    'country': 'CA',\n",
       "    'sunrise': 1726665223,\n",
       "    'sunset': 1726710122},\n",
       "   'timezone': -21600,\n",
       "   'id': 5946768,\n",
       "   'name': 'Edmonton',\n",
       "   'cod': 200}},\n",
       " {'city': 'Red Deer',\n",
       "  'response': {'coord': {'lon': -113.802, 'lat': 52.2668},\n",
       "   'weather': [{'id': 800,\n",
       "     'main': 'Clear',\n",
       "     'description': 'clear sky',\n",
       "     'icon': '01n'}],\n",
       "   'base': 'stations',\n",
       "   'main': {'temp': 14.27,\n",
       "    'feels_like': 13.5,\n",
       "    'temp_min': 9.6,\n",
       "    'temp_max': 14.27,\n",
       "    'pressure': 1007,\n",
       "    'humidity': 67,\n",
       "    'sea_level': 1007,\n",
       "    'grnd_level': 904},\n",
       "   'visibility': 10000,\n",
       "   'wind': {'speed': 2.06, 'deg': 330},\n",
       "   'clouds': {'all': 0},\n",
       "   'dt': 1726718643,\n",
       "   'sys': {'type': 1,\n",
       "    'id': 887,\n",
       "    'country': 'CA',\n",
       "    'sunrise': 1726665336,\n",
       "    'sunset': 1726710169},\n",
       "   'timezone': -21600,\n",
       "   'id': 6118158,\n",
       "   'name': 'Red Deer',\n",
       "   'cod': 200}},\n",
       " {'city': 'Lethbridge',\n",
       "  'response': {'coord': {'lon': -112.8186, 'lat': 49.7},\n",
       "   'weather': [{'id': 803,\n",
       "     'main': 'Clouds',\n",
       "     'description': 'broken clouds',\n",
       "     'icon': '04n'}],\n",
       "   'base': 'stations',\n",
       "   'main': {'temp': 17.06,\n",
       "    'feels_like': 16.36,\n",
       "    'temp_min': 15.27,\n",
       "    'temp_max': 17.06,\n",
       "    'pressure': 1006,\n",
       "    'humidity': 59,\n",
       "    'sea_level': 1006,\n",
       "    'grnd_level': 905},\n",
       "   'visibility': 10000,\n",
       "   'wind': {'speed': 4.12, 'deg': 320},\n",
       "   'clouds': {'all': 75},\n",
       "   'dt': 1726718694,\n",
       "   'sys': {'type': 1,\n",
       "    'id': 897,\n",
       "    'country': 'CA',\n",
       "    'sunrise': 1726665160,\n",
       "    'sunset': 1726709873},\n",
       "   'timezone': -21600,\n",
       "   'id': 6053154,\n",
       "   'name': 'Lethbridge',\n",
       "   'cod': 200}},\n",
       " {'city': 'Medicine Hat',\n",
       "  'response': {'coord': {'lon': -110.6683, 'lat': 50.0501},\n",
       "   'weather': [{'id': 804,\n",
       "     'main': 'Clouds',\n",
       "     'description': 'overcast clouds',\n",
       "     'icon': '04n'}],\n",
       "   'base': 'stations',\n",
       "   'main': {'temp': 14.25,\n",
       "    'feels_like': 13.64,\n",
       "    'temp_min': 12.07,\n",
       "    'temp_max': 14.56,\n",
       "    'pressure': 1004,\n",
       "    'humidity': 73,\n",
       "    'sea_level': 1004,\n",
       "    'grnd_level': 922},\n",
       "   'visibility': 10000,\n",
       "   'wind': {'speed': 1.34, 'deg': 288, 'gust': 1.79},\n",
       "   'clouds': {'all': 100},\n",
       "   'dt': 1726718841,\n",
       "   'sys': {'type': 2,\n",
       "    'id': 2017455,\n",
       "    'country': 'CA',\n",
       "    'sunrise': 1726664636,\n",
       "    'sunset': 1726709365},\n",
       "   'timezone': -21600,\n",
       "   'id': 6071618,\n",
       "   'name': 'Medicine Hat',\n",
       "   'cod': 200}},\n",
       " {'city': 'Fort McMurray',\n",
       "  'response': {'coord': {'lon': -111.381, 'lat': 56.7268},\n",
       "   'weather': [{'id': 804,\n",
       "     'main': 'Clouds',\n",
       "     'description': 'overcast clouds',\n",
       "     'icon': '04n'}],\n",
       "   'base': 'stations',\n",
       "   'main': {'temp': 11.73,\n",
       "    'feels_like': 10.68,\n",
       "    'temp_min': 11.73,\n",
       "    'temp_max': 11.77,\n",
       "    'pressure': 1007,\n",
       "    'humidity': 66,\n",
       "    'sea_level': 1007,\n",
       "    'grnd_level': 977},\n",
       "   'visibility': 10000,\n",
       "   'wind': {'speed': 1.54, 'deg': 230},\n",
       "   'clouds': {'all': 100},\n",
       "   'dt': 1726718694,\n",
       "   'sys': {'type': 1,\n",
       "    'id': 856,\n",
       "    'country': 'CA',\n",
       "    'sunrise': 1726664628,\n",
       "    'sunset': 1726709715},\n",
       "   'timezone': -21600,\n",
       "   'id': 5955895,\n",
       "   'name': 'Fort McMurray',\n",
       "   'cod': 200}}]"
      ]
     },
     "execution_count": 3,
     "metadata": {},
     "output_type": "execute_result"
    }
   ],
   "source": [
    "data = []\n",
    "for city in alberta_cities:\n",
    "    response = get_weather_by_name(city['city_name'])\n",
    "    data.append({'city': city['city_name'], 'response': response})\n",
    "data"
   ]
  },
  {
   "cell_type": "code",
   "execution_count": 4,
   "metadata": {},
   "outputs": [
    {
     "data": {
      "text/plain": [
       "{'coord': {'lon': -110.6683, 'lat': 50.0501},\n",
       " 'weather': [{'id': 804,\n",
       "   'main': 'Clouds',\n",
       "   'description': 'overcast clouds',\n",
       "   'icon': '04n'}],\n",
       " 'base': 'stations',\n",
       " 'main': {'temp': 14.25,\n",
       "  'feels_like': 13.64,\n",
       "  'temp_min': 12.07,\n",
       "  'temp_max': 14.56,\n",
       "  'pressure': 1004,\n",
       "  'humidity': 73,\n",
       "  'sea_level': 1004,\n",
       "  'grnd_level': 922},\n",
       " 'visibility': 10000,\n",
       " 'wind': {'speed': 1.34, 'deg': 288, 'gust': 1.79},\n",
       " 'clouds': {'all': 100},\n",
       " 'dt': 1726719100,\n",
       " 'sys': {'type': 2,\n",
       "  'id': 2017455,\n",
       "  'country': 'CA',\n",
       "  'sunrise': 1726664636,\n",
       "  'sunset': 1726709365},\n",
       " 'timezone': -21600,\n",
       " 'id': 6071618,\n",
       " 'name': 'Medicine Hat',\n",
       " 'cod': 200}"
      ]
     },
     "execution_count": 4,
     "metadata": {},
     "output_type": "execute_result"
    }
   ],
   "source": [
    "url = f\"http://api.openweathermap.org/data/2.5/weather?id={mh_id}&appid={WEATHER_API_KEY}&units=metric\"\n",
    "response = requests.get(url)\n",
    "response.json()"
   ]
  },
  {
   "cell_type": "code",
   "execution_count": 38,
   "metadata": {},
   "outputs": [
    {
     "name": "stdout",
     "output_type": "stream",
     "text": [
      "5913490\n",
      "5946768\n",
      "6118158\n",
      "6053154\n",
      "5955895\n"
     ]
    }
   ],
   "source": [
    "for datum in data:\n",
    "    print(datum['response']['id'])"
   ]
  },
  {
   "cell_type": "code",
   "execution_count": 5,
   "metadata": {},
   "outputs": [
    {
     "name": "stdout",
     "output_type": "stream",
     "text": [
      "{'coord': {'lon': -114.0853, 'lat': 51.0501}, 'weather': [{'id': 803, 'main': 'Clouds', 'description': 'broken clouds', 'icon': '04n'}], 'base': 'stations', 'main': {'temp': 15.15, 'feels_like': 14.52, 'temp_min': 13.56, 'temp_max': 15.74, 'pressure': 1007, 'humidity': 69, 'sea_level': 1007, 'grnd_level': 884}, 'visibility': 10000, 'wind': {'speed': 1.03, 'deg': 330}, 'clouds': {'all': 75}, 'dt': 1726719110, 'sys': {'type': 2, 'id': 2094668, 'country': 'CA', 'sunrise': 1726665434, 'sunset': 1726710207}, 'timezone': -21600, 'id': 5913490, 'name': 'Calgary', 'cod': 200}\n",
      "{'coord': {'lon': -113.4687, 'lat': 53.5501}, 'weather': [{'id': 801, 'main': 'Clouds', 'description': 'few clouds', 'icon': '02n'}], 'base': 'stations', 'main': {'temp': 13.85, 'feels_like': 12.99, 'temp_min': 11, 'temp_max': 14.76, 'pressure': 1007, 'humidity': 65, 'sea_level': 1007, 'grnd_level': 929}, 'visibility': 10000, 'wind': {'speed': 1.79, 'deg': 312, 'gust': 3.58}, 'clouds': {'all': 19}, 'dt': 1726718845, 'sys': {'type': 2, 'id': 2074442, 'country': 'CA', 'sunrise': 1726665223, 'sunset': 1726710122}, 'timezone': -21600, 'id': 5946768, 'name': 'Edmonton', 'cod': 200}\n",
      "{'coord': {'lon': -113.802, 'lat': 52.2668}, 'weather': [{'id': 803, 'main': 'Clouds', 'description': 'broken clouds', 'icon': '04n'}], 'base': 'stations', 'main': {'temp': 9.05, 'feels_like': 8.02, 'temp_min': 9.05, 'temp_max': 9.05, 'pressure': 1007, 'humidity': 67, 'sea_level': 1007, 'grnd_level': 904}, 'visibility': 10000, 'wind': {'speed': 2.08, 'deg': 333, 'gust': 2.19}, 'clouds': {'all': 57}, 'dt': 1726719030, 'sys': {'type': 2, 'id': 2040029, 'country': 'CA', 'sunrise': 1726665336, 'sunset': 1726710169}, 'timezone': -21600, 'id': 6118158, 'name': 'Red Deer', 'cod': 200}\n",
      "{'coord': {'lon': -112.8186, 'lat': 49.7}, 'weather': [{'id': 804, 'main': 'Clouds', 'description': 'overcast clouds', 'icon': '04n'}], 'base': 'stations', 'main': {'temp': 16, 'feels_like': 15.27, 'temp_min': 16, 'temp_max': 16, 'pressure': 1006, 'humidity': 62, 'sea_level': 1006, 'grnd_level': 905}, 'visibility': 10000, 'wind': {'speed': 3.02, 'deg': 279, 'gust': 4.81}, 'clouds': {'all': 100}, 'dt': 1726719054, 'sys': {'country': 'CA', 'sunrise': 1726665160, 'sunset': 1726709873}, 'timezone': -21600, 'id': 6053154, 'name': 'Lethbridge', 'cod': 200}\n",
      "{'coord': {'lon': -110.6683, 'lat': 50.0501}, 'weather': [{'id': 804, 'main': 'Clouds', 'description': 'overcast clouds', 'icon': '04n'}], 'base': 'stations', 'main': {'temp': 14.25, 'feels_like': 13.64, 'temp_min': 12.07, 'temp_max': 14.56, 'pressure': 1004, 'humidity': 73, 'sea_level': 1004, 'grnd_level': 922}, 'visibility': 10000, 'wind': {'speed': 1.34, 'deg': 288, 'gust': 1.79}, 'clouds': {'all': 100}, 'dt': 1726718841, 'sys': {'type': 2, 'id': 2017455, 'country': 'CA', 'sunrise': 1726664636, 'sunset': 1726709365}, 'timezone': -21600, 'id': 6071618, 'name': 'Medicine Hat', 'cod': 200}\n",
      "{'coord': {'lon': -111.381, 'lat': 56.7268}, 'weather': [{'id': 802, 'main': 'Clouds', 'description': 'scattered clouds', 'icon': '03n'}], 'base': 'stations', 'main': {'temp': 11.04, 'feels_like': 9.87, 'temp_min': 11.04, 'temp_max': 11.04, 'pressure': 1007, 'humidity': 64, 'sea_level': 1007, 'grnd_level': 977}, 'visibility': 10000, 'wind': {'speed': 1.76, 'deg': 321, 'gust': 1.79}, 'clouds': {'all': 29}, 'dt': 1726719110, 'sys': {'country': 'CA', 'sunrise': 1726664628, 'sunset': 1726709715}, 'timezone': -21600, 'id': 5955895, 'name': 'Fort McMurray', 'cod': 200}\n"
     ]
    }
   ],
   "source": [
    "for city in alberta_cities:\n",
    "    print(get_weather_by_id(city['openweatherid']))"
   ]
  },
  {
   "cell_type": "code",
   "execution_count": 5,
   "metadata": {},
   "outputs": [
    {
     "data": {
      "text/plain": [
       "['cod',\n",
       " 'message',\n",
       " 'cod',\n",
       " 'message',\n",
       " 'cod',\n",
       " 'message',\n",
       " 'cod',\n",
       " 'message',\n",
       " 'cod',\n",
       " 'message']"
      ]
     },
     "execution_count": 5,
     "metadata": {},
     "output_type": "execute_result"
    }
   ],
   "source": [
    "response"
   ]
  }
 ],
 "metadata": {
  "kernelspec": {
   "display_name": "venv",
   "language": "python",
   "name": "python3"
  },
  "language_info": {
   "codemirror_mode": {
    "name": "ipython",
    "version": 3
   },
   "file_extension": ".py",
   "mimetype": "text/x-python",
   "name": "python",
   "nbconvert_exporter": "python",
   "pygments_lexer": "ipython3",
   "version": "3.12.2"
  }
 },
 "nbformat": 4,
 "nbformat_minor": 2
}
